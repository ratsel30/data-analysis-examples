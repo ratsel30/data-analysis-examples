{
 "cells": [
  {
   "cell_type": "code",
   "execution_count": null,
   "metadata": {},
   "outputs": [],
   "source": [
    "import pandas as pd\n",
    "import numpy as np\n",
    "import re"
   ]
  },
  {
   "cell_type": "code",
   "execution_count": null,
   "metadata": {},
   "outputs": [],
   "source": [
    "df_minjust = pd.read_csv('data/Minjust2018.csv', \n",
    "                 header=None, \n",
    "                 usecols=[4, 27, 28, 33])\n",
    "df_minjust.fillna('', inplace=True)\n",
    "df_minjust.rename(columns={4: 'company_name', \n",
    "                           27: 'director', \n",
    "                           28: 'activity', \n",
    "                           33: 'founders'},\n",
    "                  inplace = True)"
   ]
  },
  {
   "cell_type": "code",
   "execution_count": null,
   "metadata": {},
   "outputs": [],
   "source": [
    "df_minjust"
   ]
  },
  {
   "cell_type": "code",
   "execution_count": null,
   "metadata": {},
   "outputs": [],
   "source": [
    "df_decl = pd.read_csv('data/declaration.csv', \n",
    "                      header=None, \n",
    "                      usecols=[1, 2, 3, 4, 5])\n",
    "df_decl.fillna('', inplace=True)\n",
    "df_decl.rename(columns={1: 'surname', \n",
    "                        2: 'name', \n",
    "                        3: 'patronymic', \n",
    "                        4: 'workplace',\n",
    "                        5: 'position'},\n",
    "                  inplace = True)"
   ]
  },
  {
   "cell_type": "code",
   "execution_count": null,
   "metadata": {},
   "outputs": [],
   "source": [
    "df_decl"
   ]
  },
  {
   "cell_type": "code",
   "execution_count": null,
   "metadata": {},
   "outputs": [],
   "source": [
    "columns = ['company_name', 'director', 'activity', 'founders', \n",
    "           'surname', 'name', 'patronymic', 'workplace', 'position']\n",
    "result = pd.DataFrame(columns=columns)"
   ]
  },
  {
   "cell_type": "code",
   "execution_count": null,
   "metadata": {},
   "outputs": [],
   "source": [
    "def search_df(df, column, pattern):\n",
    "    return df.loc[df[column].str.contains(pattern)]\n",
    "    \n",
    "def child_regex(surname, name):\n",
    "    pattern = re.compile(surname +\n",
    "                         r'а?\\s+\\w+\\s+' + # First name\n",
    "                         remove_vowels(name) + # Patronymic\n",
    "                         r'|' + \n",
    "                         r'\\w+\\s+' + # First name\n",
    "                         remove_vowels(name) + r'\\w+\\s+' + # Patronymic\n",
    "                         surname,\n",
    "                         re.IGNORECASE)\n",
    "    return pattern\n",
    "\n",
    "def remove_vowels(name):\n",
    "    while True:\n",
    "        if name[-1] not in ['а', 'о', 'и', 'е', 'ё', 'э', 'ы', 'у', 'ю', 'я', 'й']:\n",
    "            break\n",
    "        else:\n",
    "            name = name[: -1]\n",
    "    return name"
   ]
  },
  {
   "cell_type": "code",
   "execution_count": null,
   "metadata": {},
   "outputs": [],
   "source": [
    "for index, row in df_decl.loc[426:496].iterrows():\n",
    "    search = search_df(df_minjust, 'founders', child_regex(row['surname'], \n",
    "                                                           row['name'])).copy()\n",
    "    for column in df_decl.columns:\n",
    "        search[column] = row[column]\n",
    "    result = result.append(search, ignore_index=True)\n",
    "    "
   ]
  },
  {
   "cell_type": "code",
   "execution_count": null,
   "metadata": {},
   "outputs": [],
   "source": [
    "result"
   ]
  },
  {
   "cell_type": "code",
   "execution_count": null,
   "metadata": {},
   "outputs": [],
   "source": [
    "result.to_pickle('result_children.pkl')"
   ]
  },
  {
   "cell_type": "code",
   "execution_count": null,
   "metadata": {},
   "outputs": [],
   "source": []
  }
 ],
 "metadata": {
  "kernelspec": {
   "display_name": "Python 3",
   "language": "python",
   "name": "python3"
  },
  "language_info": {
   "codemirror_mode": {
    "name": "ipython",
    "version": 3
   },
   "file_extension": ".py",
   "mimetype": "text/x-python",
   "name": "python",
   "nbconvert_exporter": "python",
   "pygments_lexer": "ipython3",
   "version": "3.7.1"
  }
 },
 "nbformat": 4,
 "nbformat_minor": 2
}
